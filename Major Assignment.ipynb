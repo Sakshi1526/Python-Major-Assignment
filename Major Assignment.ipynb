{
 "cells": [
  {
   "cell_type": "markdown",
   "id": "455e0433-555b-477f-9ccf-857f3b02db00",
   "metadata": {},
   "source": [
    "1) Find the datatype of these two declarations"
   ]
  },
  {
   "cell_type": "code",
   "execution_count": 2,
   "id": "22985faa-344a-4793-9fab-017638a28545",
   "metadata": {},
   "outputs": [
    {
     "name": "stdout",
     "output_type": "stream",
     "text": [
      "<class 'int'>\n",
      "<class 'str'>\n"
     ]
    }
   ],
   "source": [
    "x = 5\n",
    "y = \"John\"\n",
    "\n",
    "print(type(x))\n",
    "print(type(y))"
   ]
  },
  {
   "cell_type": "markdown",
   "id": "8623a933-f5d4-4bb6-8227-5c70d07173e8",
   "metadata": {},
   "source": [
    "3) Check if an element exists in the list in Python."
   ]
  },
  {
   "cell_type": "code",
   "execution_count": 49,
   "id": "6372e82c-a628-4268-b37d-a45a68aaa2f9",
   "metadata": {},
   "outputs": [
    {
     "ename": "SyntaxError",
     "evalue": "invalid decimal literal (671370871.py, line 1)",
     "output_type": "error",
     "traceback": [
      "\u001b[1;36m  Cell \u001b[1;32mIn[49], line 1\u001b[1;36m\u001b[0m\n\u001b[1;33m    3a=10\u001b[0m\n\u001b[1;37m    ^\u001b[0m\n\u001b[1;31mSyntaxError\u001b[0m\u001b[1;31m:\u001b[0m invalid decimal literal\n"
     ]
    }
   ],
   "source": [
    "3a=10"
   ]
  },
  {
   "cell_type": "code",
   "execution_count": 51,
   "id": "5e4889eb-4fde-4347-8db3-2207b6ca7899",
   "metadata": {},
   "outputs": [
    {
     "ename": "SyntaxError",
     "evalue": "invalid syntax. Maybe you meant '==' or ':=' instead of '='? (1070454341.py, line 1)",
     "output_type": "error",
     "traceback": [
      "\u001b[1;36m  Cell \u001b[1;32mIn[51], line 1\u001b[1;36m\u001b[0m\n\u001b[1;33m    @abc=10\u001b[0m\n\u001b[1;37m     ^\u001b[0m\n\u001b[1;31mSyntaxError\u001b[0m\u001b[1;31m:\u001b[0m invalid syntax. Maybe you meant '==' or ':=' instead of '='?\n"
     ]
    }
   ],
   "source": [
    "@abc=10"
   ]
  },
  {
   "cell_type": "code",
   "execution_count": 59,
   "id": "59932d22-f182-42ba-8dbb-48a680627747",
   "metadata": {},
   "outputs": [],
   "source": [
    "a100=100"
   ]
  },
  {
   "cell_type": "code",
   "execution_count": 61,
   "id": "7a86488e-e93c-4f0d-8a4e-cfa728dcab74",
   "metadata": {},
   "outputs": [],
   "source": [
    "_a984_=100"
   ]
  },
  {
   "cell_type": "code",
   "execution_count": 63,
   "id": "f1515bde-4ada-4bb2-87c0-d43cfd9824a7",
   "metadata": {},
   "outputs": [
    {
     "ename": "SyntaxError",
     "evalue": "invalid syntax (3664551489.py, line 1)",
     "output_type": "error",
     "traceback": [
      "\u001b[1;36m  Cell \u001b[1;32mIn[63], line 1\u001b[1;36m\u001b[0m\n\u001b[1;33m    a9967$=100\u001b[0m\n\u001b[1;37m         ^\u001b[0m\n\u001b[1;31mSyntaxError\u001b[0m\u001b[1;31m:\u001b[0m invalid syntax\n"
     ]
    }
   ],
   "source": [
    "a9967$=100"
   ]
  },
  {
   "cell_type": "code",
   "execution_count": 65,
   "id": "8dc496e9-0522-4afc-a13b-52100607b76c",
   "metadata": {},
   "outputs": [
    {
     "ename": "SyntaxError",
     "evalue": "cannot assign to expression here. Maybe you meant '==' instead of '='? (3328636375.py, line 1)",
     "output_type": "error",
     "traceback": [
      "\u001b[1;36m  Cell \u001b[1;32mIn[65], line 1\u001b[1;36m\u001b[0m\n\u001b[1;33m    xyz-2=100\u001b[0m\n\u001b[1;37m    ^\u001b[0m\n\u001b[1;31mSyntaxError\u001b[0m\u001b[1;31m:\u001b[0m cannot assign to expression here. Maybe you meant '==' instead of '='?\n"
     ]
    }
   ],
   "source": [
    "xyz-2=100"
   ]
  },
  {
   "cell_type": "code",
   "execution_count": 7,
   "id": "f6727a88-5bbf-4289-87e6-f26399c50ccd",
   "metadata": {},
   "outputs": [
    {
     "name": "stdout",
     "output_type": "stream",
     "text": [
      " Does 3 exists in the list ?True\n",
      "Does 9 exist in the list? False\n"
     ]
    }
   ],
   "source": [
    "test_list = [1, 6, 3, 5, 3, 4]\n",
    "\n",
    "exists_3 = 3 in test_list\n",
    "print(f\" Does 3 exists in the list ? {exists_3}\")\n",
    "\n",
    "exists_9 = 9 in test_list\n",
    "print(f\"Does 9 exist in the list? {exists_9}\")\n"
   ]
  },
  {
   "cell_type": "markdown",
   "id": "8ebb3f25-fd63-427a-b3a5-a40eda1beeb8",
   "metadata": {},
   "source": [
    "4) Take the user input to print the current date?"
   ]
  },
  {
   "cell_type": "code",
   "execution_count": 17,
   "id": "e75cb5cc-c94c-487e-aaeb-9e75c61c75aa",
   "metadata": {},
   "outputs": [
    {
     "name": "stdin",
     "output_type": "stream",
     "text": [
      " Enter any text to get current date Hello\n"
     ]
    },
    {
     "name": "stdout",
     "output_type": "stream",
     "text": [
      "Current Date : 2024-07-27\n"
     ]
    }
   ],
   "source": [
    "from datetime import datetime\n",
    "\n",
    "D = input(\" Enter any text to get current date\")\n",
    "\n",
    "current_date = datetime.now().date()\n",
    "\n",
    "print(f\"Current Date : {current_date}\")\n"
   ]
  },
  {
   "cell_type": "markdown",
   "id": "f80e073f-e69a-4874-8df9-356790ee07c5",
   "metadata": {},
   "source": [
    "5) What is the output of the following code?"
   ]
  },
  {
   "cell_type": "code",
   "execution_count": 27,
   "id": "a9392128-b4b9-4657-b354-1c81521b439a",
   "metadata": {},
   "outputs": [
    {
     "name": "stdout",
     "output_type": "stream",
     "text": [
      "Floor devision : 4\n",
      "Modulus : 1\n"
     ]
    }
   ],
   "source": [
    "a = 9\n",
    "b = 2\n",
    "\n",
    "print(f\"Floor devision :\", a//b)\n",
    "print(f\"Modulus :\", a%b)\n"
   ]
  },
  {
   "cell_type": "markdown",
   "id": "18273405-af0d-43a0-8625-69c7ebf7819a",
   "metadata": {},
   "source": [
    "6) Print the First 10 Natural Numbers using a while loop."
   ]
  },
  {
   "cell_type": "code",
   "execution_count": 29,
   "id": "bcda7a90-05a9-42e3-9562-63537722f765",
   "metadata": {},
   "outputs": [
    {
     "name": "stdout",
     "output_type": "stream",
     "text": [
      "1\n",
      "2\n",
      "3\n",
      "4\n",
      "5\n",
      "6\n",
      "7\n",
      "8\n",
      "9\n",
      "10\n"
     ]
    }
   ],
   "source": [
    "number = 1\n",
    "\n",
    "count = 10 \n",
    "\n",
    "while number <= count:\n",
    "    print(number)\n",
    "    number += 1"
   ]
  },
  {
   "cell_type": "markdown",
   "id": "53f7609b-a5d8-46e9-a0f5-49c0776dbbec",
   "metadata": {},
   "source": [
    "7) Write a program to accept a number from a user and calculate the sum of all numbers from 1 to a given number."
   ]
  },
  {
   "cell_type": "code",
   "execution_count": 43,
   "id": "80f58b09-6382-42a1-837b-8dd50ebf8aba",
   "metadata": {},
   "outputs": [
    {
     "name": "stdin",
     "output_type": "stream",
     "text": [
      "enter a number : 4\n"
     ]
    },
    {
     "name": "stdout",
     "output_type": "stream",
     "text": [
      "Sum of all numbers from 1 to 4 is 10\n"
     ]
    }
   ],
   "source": [
    "n = int(input(\"enter a number :\"))\n",
    "\n",
    "sum = 0 \n",
    "\n",
    "for i in range(1,n+1):\n",
    "    sum += i\n",
    "\n",
    "print(f\"Sum of all numbers from 1 to {n} is {sum}\")    "
   ]
  },
  {
   "cell_type": "markdown",
   "id": "e8b043a3-854d-4e51-ad06-d2ac9637b1db",
   "metadata": {},
   "source": [
    "8) Write a Python program that iterates the integers from 1 to 50.\n",
    "For multiples of three print \"Fizz\" instead of the number and for multiples of five print \"Buzz\".\n",
    "For numbers that are multiples of both three and five print \"FizzBuzz\"?"
   ]
  },
  {
   "cell_type": "code",
   "execution_count": 47,
   "id": "fd2d3fc9-d63b-42be-84d8-a6353bfe858d",
   "metadata": {},
   "outputs": [
    {
     "name": "stdout",
     "output_type": "stream",
     "text": [
      "1\n",
      "2\n",
      "Fizz\n",
      "4\n",
      "5\n",
      "Fizz\n",
      "7\n",
      "8\n",
      "Fizz\n",
      "10\n",
      "11\n",
      "Fizz\n",
      "13\n",
      "14\n",
      "FizzBuzz\n",
      "16\n",
      "17\n",
      "Fizz\n",
      "19\n",
      "20\n",
      "Fizz\n",
      "22\n",
      "23\n",
      "Fizz\n",
      "25\n",
      "26\n",
      "Fizz\n",
      "28\n",
      "29\n",
      "FizzBuzz\n",
      "31\n",
      "32\n",
      "Fizz\n",
      "34\n",
      "35\n",
      "Fizz\n",
      "37\n",
      "38\n",
      "Fizz\n",
      "40\n",
      "41\n",
      "Fizz\n",
      "43\n",
      "44\n",
      "FizzBuzz\n",
      "46\n",
      "47\n",
      "Fizz\n",
      "49\n",
      "50\n"
     ]
    }
   ],
   "source": [
    "for n in range(1,51):\n",
    "    if n % 3 == 0 and n % 5 == 0:\n",
    "        print(\"FizzBuzz\")\n",
    "    elif n % 3 == 0:\n",
    "        print(\"Fizz\")\n",
    "    elif 5 == 0:\n",
    "        print(\"Buzz\")\n",
    "    else:\n",
    "        print(n)"
   ]
  }
 ],
 "metadata": {
  "kernelspec": {
   "display_name": "Python 3 (ipykernel)",
   "language": "python",
   "name": "python3"
  },
  "language_info": {
   "codemirror_mode": {
    "name": "ipython",
    "version": 3
   },
   "file_extension": ".py",
   "mimetype": "text/x-python",
   "name": "python",
   "nbconvert_exporter": "python",
   "pygments_lexer": "ipython3",
   "version": "3.12.4"
  }
 },
 "nbformat": 4,
 "nbformat_minor": 5
}
